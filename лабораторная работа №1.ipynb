{
 "cells": [
  {
   "cell_type": "markdown",
   "id": "d2763b1e",
   "metadata": {},
   "source": [
    "# Лабораторная работа №1\n",
    "## Выполнила студентка группы БСТ2001 Ишимве Ларисса Ноэлла\n",
    "### Задание 1"
   ]
  },
  {
   "cell_type": "code",
   "execution_count": 1,
   "id": "d8e64303",
   "metadata": {},
   "outputs": [
    {
     "name": "stdout",
     "output_type": "stream",
     "text": [
      "Hello, World!\n"
     ]
    }
   ],
   "source": [
    "print(\"Hello, World!\")"
   ]
  },
  {
   "cell_type": "markdown",
   "id": "c3d1fc60",
   "metadata": {},
   "source": [
    "### Задание 2"
   ]
  },
  {
   "cell_type": "code",
   "execution_count": 5,
   "id": "d35f704c",
   "metadata": {},
   "outputs": [
    {
     "name": "stdout",
     "output_type": "stream",
     "text": [
      "10\n",
      "15\n",
      "-15\n",
      "35\n"
     ]
    }
   ],
   "source": [
    "m_user=input()\n",
    "n_user=input()\n",
    "min_limit=input()\n",
    "max_limit=input()"
   ]
  },
  {
   "cell_type": "code",
   "execution_count": 7,
   "id": "a01a3a0c",
   "metadata": {},
   "outputs": [
    {
     "name": "stdout",
     "output_type": "stream",
     "text": [
      "10 15 -15 35\n"
     ]
    }
   ],
   "source": [
    "if m_user==\"\":\n",
    "    m=50\n",
    "else:\n",
    "     m=int(m_user)\n",
    "\n",
    "        \n",
    "if n_user==\"\":\n",
    "    n=50\n",
    "else:\n",
    "    n=int(n_user)\n",
    "\n",
    "if min_limit==\"\":\n",
    "    min_limit=-250\n",
    "else:\n",
    "    min_limit=int(min_limit)\n",
    "\n",
    "if max_limit==\"\":\n",
    "    max_limit=1000+8\n",
    "else:\n",
    "    max_limit=int(max_limit)\n",
    "    \n",
    "print(m, n, min_limit, max_limit)"
   ]
  },
  {
   "cell_type": "code",
   "execution_count": 8,
   "id": "422eea20",
   "metadata": {},
   "outputs": [
    {
     "data": {
      "text/plain": [
       "[[-3, 8, 27, 23, -6, 0, 10, 18, 9, 30],\n",
       " [30, 28, 6, 31, 11, 35, 10, 28, -5, 2],\n",
       " [28, 27, 29, 11, 3, 18, -10, 13, -9, -9],\n",
       " [27, 29, 18, 34, 17, 35, 28, 35, 32, -12],\n",
       " [-14, -9, 1, -15, 8, 28, 17, -1, -15, 6],\n",
       " [12, -2, -15, 23, -13, 32, 29, -8, 26, 16],\n",
       " [30, -15, -10, 9, -1, 26, -1, 19, -13, -2],\n",
       " [26, -11, -14, 15, 21, 29, 31, 25, 4, 8],\n",
       " [0, 14, 20, -9, 35, 17, 28, 13, 0, -9],\n",
       " [24, 19, 31, 17, 1, 35, 27, 35, 34, -11],\n",
       " [27, 25, -10, -14, 11, 34, -8, 5, -4, 13],\n",
       " [34, 19, 11, 10, 12, 14, 12, 17, 24, 6],\n",
       " [27, 25, 5, -4, 22, 19, 29, 15, 5, 2],\n",
       " [8, 7, 0, -5, 19, -3, 28, 23, -6, -1],\n",
       " [-5, 9, 6, 17, 4, 3, -15, 12, 20, 9]]"
      ]
     },
     "execution_count": 8,
     "metadata": {},
     "output_type": "execute_result"
    }
   ],
   "source": [
    "\n",
    "import random\n",
    "matrix = [[1 for i in range(m)]for j in range(n)]\n",
    "for i in range(len(matrix)):\n",
    "    for j in range (len(matrix[i])):\n",
    "        matrix[i][j]= random.randint(min_limit, max_limit)\n",
    "\n",
    "matrix"
   ]
  },
  {
   "cell_type": "markdown",
   "id": "7aaec021",
   "metadata": {},
   "source": [
    "### Задание 3\n",
    "#### Реализовать методы сортировки строк числовой матрицы в соответствии с заданием. Оценить время работы каждого алгоритма сортировки и сравнить его со временем стандартной функции сортировки. Испытания проводить на сгенерированных матрицах.\n"
   ]
  },
  {
   "cell_type": "markdown",
   "id": "744fda31",
   "metadata": {},
   "source": [
    "#### сортировка выбором"
   ]
  },
  {
   "cell_type": "code",
   "execution_count": 9,
   "id": "b404761e",
   "metadata": {},
   "outputs": [
    {
     "data": {
      "text/plain": [
       "[[-3, 8, 27, 23, -6, 0, 10, 18, 9, 30],\n",
       " [30, 28, 6, 31, 11, 35, 10, 28, -5, 2],\n",
       " [28, 27, 29, 11, 3, 18, -10, 13, -9, -9],\n",
       " [27, 29, 18, 34, 17, 35, 28, 35, 32, -12],\n",
       " [-14, -9, 1, -15, 8, 28, 17, -1, -15, 6],\n",
       " [12, -2, -15, 23, -13, 32, 29, -8, 26, 16],\n",
       " [30, -15, -10, 9, -1, 26, -1, 19, -13, -2],\n",
       " [26, -11, -14, 15, 21, 29, 31, 25, 4, 8],\n",
       " [0, 14, 20, -9, 35, 17, 28, 13, 0, -9],\n",
       " [24, 19, 31, 17, 1, 35, 27, 35, 34, -11],\n",
       " [27, 25, -10, -14, 11, 34, -8, 5, -4, 13],\n",
       " [34, 19, 11, 10, 12, 14, 12, 17, 24, 6],\n",
       " [27, 25, 5, -4, 22, 19, 29, 15, 5, 2],\n",
       " [8, 7, 0, -5, 19, -3, 28, 23, -6, -1],\n",
       " [-5, 9, 6, 17, 4, 3, -15, 12, 20, 9]]"
      ]
     },
     "execution_count": 9,
     "metadata": {},
     "output_type": "execute_result"
    }
   ],
   "source": [
    "matrix1 = matrix.copy()\n",
    "matrix1"
   ]
  },
  {
   "cell_type": "code",
   "execution_count": 10,
   "id": "8964e4e7",
   "metadata": {},
   "outputs": [
    {
     "name": "stdout",
     "output_type": "stream",
     "text": [
      "[[-6, -3, 0, 8, 9, 10, 18, 23, 27, 30], [-5, 2, 6, 10, 11, 28, 28, 30, 31, 35], [-10, -9, -9, 3, 11, 13, 18, 27, 28, 29], [-12, 17, 18, 27, 28, 29, 32, 34, 35, 35], [-15, -15, -14, -9, -1, 1, 6, 8, 17, 28], [-15, -13, -8, -2, 12, 16, 23, 26, 29, 32], [-15, -13, -10, -2, -1, -1, 9, 19, 26, 30], [-14, -11, 4, 8, 15, 21, 25, 26, 29, 31], [-9, -9, 0, 0, 13, 14, 17, 20, 28, 35], [-11, 1, 17, 19, 24, 27, 31, 34, 35, 35], [-14, -10, -8, -4, 5, 11, 13, 25, 27, 34], [6, 10, 11, 12, 12, 14, 17, 19, 24, 34], [-4, 2, 5, 5, 15, 19, 22, 25, 27, 29], [-6, -5, -3, -1, 0, 7, 8, 19, 23, 28], [-15, -5, 3, 4, 6, 9, 9, 12, 17, 20]]\n",
      "время операции = 0.0009987354278564453\n"
     ]
    }
   ],
   "source": [
    "import time\n",
    "t0= time.time()\n",
    "for i in range(len(matrix1)):\n",
    "    j=0\n",
    "    while j < len(matrix1[i]) - 1:\n",
    "          m=j\n",
    "          k = j+1\n",
    "          while k < len(matrix1[i]):\n",
    "                 if matrix1[i][k]< matrix1[i][m]:\n",
    "                    m=k\n",
    "                 k +=1\n",
    "          matrix1[i][j] , matrix1[i][m]=matrix1[i][m], matrix1[i][j]\n",
    "          j+=1\n",
    "print (matrix1)\n",
    "print(\"время операции =\", time.time()-t0)\n",
    "        "
   ]
  },
  {
   "cell_type": "markdown",
   "id": "54bf5b25",
   "metadata": {},
   "source": [
    "#### Сортировка вставкой"
   ]
  },
  {
   "cell_type": "code",
   "execution_count": 11,
   "id": "938a6559",
   "metadata": {},
   "outputs": [
    {
     "name": "stdout",
     "output_type": "stream",
     "text": [
      "время операции = 0.0\n"
     ]
    },
    {
     "data": {
      "text/plain": [
       "[[-6, -3, 0, 8, 9, 10, 18, 23, 27, 30],\n",
       " [-5, 2, 6, 10, 11, 28, 28, 30, 31, 35],\n",
       " [-10, -9, -9, 3, 11, 13, 18, 27, 28, 29],\n",
       " [-12, 17, 18, 27, 28, 29, 32, 34, 35, 35],\n",
       " [-15, -15, -14, -9, -1, 1, 6, 8, 17, 28],\n",
       " [-15, -13, -8, -2, 12, 16, 23, 26, 29, 32],\n",
       " [-15, -13, -10, -2, -1, -1, 9, 19, 26, 30],\n",
       " [-14, -11, 4, 8, 15, 21, 25, 26, 29, 31],\n",
       " [-9, -9, 0, 0, 13, 14, 17, 20, 28, 35],\n",
       " [-11, 1, 17, 19, 24, 27, 31, 34, 35, 35],\n",
       " [-14, -10, -8, -4, 5, 11, 13, 25, 27, 34],\n",
       " [6, 10, 11, 12, 12, 14, 17, 19, 24, 34],\n",
       " [-4, 2, 5, 5, 15, 19, 22, 25, 27, 29],\n",
       " [-6, -5, -3, -1, 0, 7, 8, 19, 23, 28],\n",
       " [-15, -5, 3, 4, 6, 9, 9, 12, 17, 20]]"
      ]
     },
     "execution_count": 11,
     "metadata": {},
     "output_type": "execute_result"
    }
   ],
   "source": [
    "t0= time.time()\n",
    "matrix2= matrix.copy()\n",
    "for i in range (len (matrix2)):\n",
    "        for j in range ( 1, len(matrix2[i])):\n",
    "            a= matrix2[i][j]\n",
    "            k=j-1\n",
    "            while k>=0 and a< matrix2[i][k]:\n",
    "                matrix2[i] [k+1]= matrix2[i][k]\n",
    "                k-=1\n",
    "            matrix2[i][k+1]= a\n",
    "print(\"время операции =\", time.time()-t0)\n",
    "matrix2"
   ]
  },
  {
   "cell_type": "markdown",
   "id": "23250bae",
   "metadata": {},
   "source": [
    "#### сортировка обменом"
   ]
  },
  {
   "cell_type": "code",
   "execution_count": 12,
   "id": "5a5cbe4a",
   "metadata": {},
   "outputs": [
    {
     "name": "stdout",
     "output_type": "stream",
     "text": [
      "время операции = 0.0010008811950683594\n"
     ]
    },
    {
     "data": {
      "text/plain": [
       "[[-6, -3, 0, 8, 9, 10, 18, 23, 27, 30],\n",
       " [-5, 2, 6, 10, 11, 28, 28, 30, 31, 35],\n",
       " [-10, -9, -9, 3, 11, 13, 18, 27, 28, 29],\n",
       " [-12, 17, 18, 27, 28, 29, 32, 34, 35, 35],\n",
       " [-15, -15, -14, -9, -1, 1, 6, 8, 17, 28],\n",
       " [-15, -13, -8, -2, 12, 16, 23, 26, 29, 32],\n",
       " [-15, -13, -10, -2, -1, -1, 9, 19, 26, 30],\n",
       " [-14, -11, 4, 8, 15, 21, 25, 26, 29, 31],\n",
       " [-9, -9, 0, 0, 13, 14, 17, 20, 28, 35],\n",
       " [-11, 1, 17, 19, 24, 27, 31, 34, 35, 35],\n",
       " [-14, -10, -8, -4, 5, 11, 13, 25, 27, 34],\n",
       " [6, 10, 11, 12, 12, 14, 17, 19, 24, 34],\n",
       " [-4, 2, 5, 5, 15, 19, 22, 25, 27, 29],\n",
       " [-6, -5, -3, -1, 0, 7, 8, 19, 23, 28],\n",
       " [-15, -5, 3, 4, 6, 9, 9, 12, 17, 20]]"
      ]
     },
     "execution_count": 12,
     "metadata": {},
     "output_type": "execute_result"
    }
   ],
   "source": [
    "matrix3= matrix.copy()\n",
    "t0= time.time()\n",
    "for i in range (len(matrix3)):\n",
    "    for j in range (len(matrix3[i])-1):\n",
    "        for k  in range (len(matrix3[i])-j-1):\n",
    "            if matrix3[i][k+1]< matrix3[i][k]:\n",
    "                a= matrix3[i][k]\n",
    "                matrix3[i][k]= matrix3[i][k+1]\n",
    "                matrix3[i][k+1]=a\n",
    "print(\"время операции =\", time.time()-t0)\n",
    "matrix3"
   ]
  },
  {
   "cell_type": "markdown",
   "id": "4a6870e9",
   "metadata": {},
   "source": [
    "#### Сортировка Шелла"
   ]
  },
  {
   "cell_type": "code",
   "execution_count": 13,
   "id": "b14bda4d",
   "metadata": {},
   "outputs": [
    {
     "name": "stdout",
     "output_type": "stream",
     "text": [
      "время операции = 0.0009999275207519531\n",
      "--------------------\n",
      "[[-6, -3, 0, 8, 9, 10, 18, 23, 27, 30], [-5, 2, 6, 10, 11, 28, 28, 30, 31, 35], [-10, -9, -9, 3, 11, 13, 18, 27, 28, 29], [-12, 17, 18, 27, 28, 29, 32, 34, 35, 35], [-15, -15, -14, -9, -1, 1, 6, 8, 17, 28], [-15, -13, -8, -2, 12, 16, 23, 26, 29, 32], [-15, -13, -10, -2, -1, -1, 9, 19, 26, 30], [-14, -11, 4, 8, 15, 21, 25, 26, 29, 31], [-9, -9, 0, 0, 13, 14, 17, 20, 28, 35], [-11, 1, 17, 19, 24, 27, 31, 34, 35, 35], [-14, -10, -8, -4, 5, 11, 13, 25, 27, 34], [6, 10, 11, 12, 12, 14, 17, 19, 24, 34], [-4, 2, 5, 5, 15, 19, 22, 25, 27, 29], [-6, -5, -3, -1, 0, 7, 8, 19, 23, 28], [-15, -5, 3, 4, 6, 9, 9, 12, 17, 20]]\n"
     ]
    }
   ],
   "source": [
    "import time\n",
    "matrix4 = matrix.copy()\n",
    "def shellSort(arr):\n",
    "    n=len(arr)\n",
    "    gap=int(n//2)\n",
    "    while gap>0:\n",
    "        for i in range(gap, n):\n",
    "            temp=arr[i]\n",
    "            j=i\n",
    "            while j>=gap and arr[j-gap]>temp:\n",
    "                arr[j]=arr[j-gap]\n",
    "                j-=gap\n",
    "            arr[j]=temp\n",
    "        gap//=2\n",
    "    return arr\n",
    "def shellSort_2(matrix):\n",
    "    for i in range(len(matrix)):\n",
    "        shellSort(matrix[i])\n",
    "    return matrix\n",
    "t0=time.time()\n",
    "shellSort_2(matrix4)\n",
    "print(\"время операции =\", time.time()-t0)\n",
    "print('--------------------')\n",
    "print(matrix)\n",
    "    "
   ]
  },
  {
   "cell_type": "markdown",
   "id": "692085b2",
   "metadata": {},
   "source": [
    "### быстрая Сортировка "
   ]
  },
  {
   "cell_type": "code",
   "execution_count": 16,
   "id": "51a0ceb5",
   "metadata": {},
   "outputs": [
    {
     "name": "stdout",
     "output_type": "stream",
     "text": [
      "время операции = 0.003996133804321289\n"
     ]
    }
   ],
   "source": [
    "matrix5=matrix.copy()\n",
    "def partition(start, end, array):\n",
    "    pivot_index=start\n",
    "    pivot=array[pivot_index]\n",
    "    while start < end:\n",
    "        while start < len(array) and array[start]<=pivot:\n",
    "            start+=1\n",
    "            while array[end]>pivot:\n",
    "                end-= 1\n",
    "                if(start<end):\n",
    "                    array[start], array[end]=array[end], array[end]\n",
    "                    \n",
    "            array[end], array[pivot_index]=array[pivot_index], array[end]\n",
    "            return end\n",
    "        \n",
    "def quick_sort(start, end, array):\n",
    "    if(start<end):\n",
    "        p=partition(start, end, array)\n",
    "        \n",
    "        quick_sort(start, p-1, array)\n",
    "        quick_sort(p+1, end, array)\n",
    "        \n",
    "t0=time.time()\n",
    "for i in range(len(matrix5)):\n",
    "    for j in range(len(matrix5[i])):\n",
    "        quick_sort(0, len(matrix5[i])-1, matrix5[i])\n",
    "print(\"время операции =\", time.time()-t0)\n",
    "#matrix5"
   ]
  },
  {
   "cell_type": "markdown",
   "id": "16ee5ce3",
   "metadata": {},
   "source": [
    "#### сортировка Пирамидальная"
   ]
  },
  {
   "cell_type": "code",
   "execution_count": 17,
   "id": "2d6059f9",
   "metadata": {},
   "outputs": [
    {
     "name": "stdout",
     "output_type": "stream",
     "text": [
      "время операции = 3.0830132961273193\n"
     ]
    }
   ],
   "source": [
    "matrix6=matrix.copy()\n",
    "def heapify(arr, n, i):\n",
    "    largest = i\n",
    "    l = 2 * i + 1\n",
    "    r = 2 * i + 2\n",
    "    if l < n and arr[i] < arr[l]:\n",
    "        largest = l\n",
    "    \n",
    "    if r < n and arr[largest] < arr[r]:\n",
    "            largest = r\n",
    "    \n",
    "            \n",
    "    if largest != i:\n",
    "        arr[i],arr[largest] = arr[largest],arr[i]\n",
    "        heapify(arr, n, largest)\n",
    "        \n",
    "        \n",
    "def heapSort(arr):\n",
    "    n = len(arr)\n",
    "    for i in range(n // 2 - 1, -1, -1):\n",
    "        heapify(arr, n, i)\n",
    "        \n",
    "    for i in range(n-1, 0, -1):\n",
    "        arr[i], arr[0] = arr[0], arr[i]\n",
    "        heapify(arr, i, 0)\n",
    "\n",
    "t0= time.time()\n",
    "for i in range (len(matrix6)):\n",
    "    for j in range(len(matrix6[i])):\n",
    "        heapSort(matrix6[i])\n",
    "        \n",
    "\n",
    "import numpy as np\n",
    "print(\"время операции =\", time.time()-t0)\n",
    "#print(np.array(matrix6))\n",
    "    "
   ]
  },
  {
   "cell_type": "markdown",
   "id": "39f21be9",
   "metadata": {},
   "source": [
    "#### сортировка Турнирная"
   ]
  },
  {
   "cell_type": "code",
   "execution_count": 18,
   "id": "e45f2b10",
   "metadata": {},
   "outputs": [
    {
     "name": "stdout",
     "output_type": "stream",
     "text": [
      "время операции= 0.0029981136322021484\n"
     ]
    }
   ],
   "source": [
    "import time\n",
    "import copy\n",
    "t0 = time.time()\n",
    "\n",
    "matrix7 = copy.deepcopy(matrix)\n",
    "\n",
    "def tour(ar):\n",
    "    while len(ar) > 1:\n",
    "        win_nums = []\n",
    "        if len(ar) % 2 != 0:\n",
    "            ar.append(max(ar)+1)\n",
    "        for i in range(0, len(ar), 2):\n",
    "            if ar[i] > ar[i+1]:\n",
    "                win_nums.append(ar[i+1])\n",
    "            else:\n",
    "                win_nums.append(ar[i])\n",
    "        ar = copy.copy(win_nums)\n",
    "    return ar\n",
    "\n",
    "def toursort(ar):\n",
    "    sorted_arr = []\n",
    "    while (len(ar) > 0):\n",
    "        winner = tour(copy.copy(ar))[0]\n",
    "        #print(\"{0} - removing {1}\".format(ar, winner))\n",
    "        ar.remove(winner)\n",
    "        sorted_arr.append(winner)\n",
    "    return sorted_arr\n",
    "    \n",
    "for i in range(len(matrix7)):\n",
    "    matrix7[i] = toursort(matrix7[i])\n",
    "    #print(matrix7[i])\n",
    "\n",
    "print(\"время операции=\" , time.time()-t0)\n"
   ]
  },
  {
   "cell_type": "code",
   "execution_count": null,
   "id": "e02bf2e5",
   "metadata": {},
   "outputs": [],
   "source": []
  }
 ],
 "metadata": {
  "kernelspec": {
   "display_name": "Python 3 (ipykernel)",
   "language": "python",
   "name": "python3"
  },
  "language_info": {
   "codemirror_mode": {
    "name": "ipython",
    "version": 3
   },
   "file_extension": ".py",
   "mimetype": "text/x-python",
   "name": "python",
   "nbconvert_exporter": "python",
   "pygments_lexer": "ipython3",
   "version": "3.10.2"
  }
 },
 "nbformat": 4,
 "nbformat_minor": 5
}
