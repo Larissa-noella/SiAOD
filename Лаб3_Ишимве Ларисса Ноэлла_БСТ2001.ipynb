{
 "cells": [
  {
   "cell_type": "markdown",
   "id": "1de0be8f",
   "metadata": {},
   "source": [
    "# Лабораторная работа №3\n",
    "## Выполнила студентка группы БСТ2001 Ишимве Ларисса Ноэлла"
   ]
  },
  {
   "cell_type": "markdown",
   "id": "f024a229",
   "metadata": {},
   "source": [
    "### Задание №1\n",
    "#### Реализовать методы поиска подстроки в строке. Добавить возможность ввода строки и подстроки с клавиатуры. Предусмотреть возможность существования пробела. Реализовать возможность выбора опции чувствительности или нечувствительности к регистру. Оценить время работы каждого алгоритма поиска и сравнить его со временем работы стандартной функции поиска, используемой в выбранном языке программирования. программирования. \n",
    "#### Алгоритмы:\n",
    "##### 1.Кнута-Морриса-Пратта \n",
    "#### 2.Упрощенный Бойера-Мура"
   ]
  },
  {
   "cell_type": "markdown",
   "id": "6b5dcba6",
   "metadata": {},
   "source": [
    "### Алгоритм Кнута-Морриса-Пратта (КМП)"
   ]
  },
  {
   "cell_type": "code",
   "execution_count": 3,
   "id": "0c5c35e4",
   "metadata": {},
   "outputs": [],
   "source": [
    "from IPython.display import HTML, display\n",
    "import ipywidgets as widgets\n",
    "\n",
    "\n",
    "import time"
   ]
  },
  {
   "cell_type": "code",
   "execution_count": 4,
   "id": "6abad6d9",
   "metadata": {},
   "outputs": [],
   "source": [
    "def prefix(s):\n",
    "    \"\"\" Префикс-функция от строки s и позиции i в ней - длина k\n",
    "        наибольшего собственного префикса подстроки s[0:i],\n",
    "        в который одновременно является суффиксом этой подстроки \"\"\"\n",
    "    p = [0] * len(s)\n",
    "    for i in range(1, len(s)):\n",
    "        k = p[i - 1]\n",
    "        while k > 0 and s[k] != s[i]:\n",
    "            k = p[k - 1]\n",
    "        if s[k] == s[i]:\n",
    "            k += 1\n",
    "        p[i] = k\n",
    "    return p"
   ]
  },
  {
   "cell_type": "code",
   "execution_count": 5,
   "id": "ac621a46",
   "metadata": {},
   "outputs": [],
   "source": [
    "def KMP(s, w):\n",
    "    \"\"\" КМП-алгоритм.\n",
    "        s: Строка, по которой будет произведен поиск\n",
    "        w: Строка, которую будем искать \"\"\"\n",
    "    A = []\n",
    "    k = 0\n",
    "        \n",
    "    p = prefix(s)\n",
    "\n",
    "    for i in range(len(s)):\n",
    "        while k > 0 and s[i] != w[k]:\n",
    "            k = p[k-1]\n",
    "        if s[i] == w[k]:\n",
    "            k += 1\n",
    "        if k == len(w):\n",
    "            A.append((i - len(w) + 1, i+1))\n",
    "            k = p[k-1]\n",
    "\n",
    "    return A"
   ]
  },
  {
   "cell_type": "markdown",
   "id": "b51ad39a",
   "metadata": {},
   "source": [
    "### Алгоритм Бойера - Мура"
   ]
  },
  {
   "cell_type": "code",
   "execution_count": 6,
   "id": "d0fe5973",
   "metadata": {},
   "outputs": [],
   "source": [
    "def preprocess(w):\n",
    "    \"\"\" Строит таблицу смещений \"\"\"\n",
    "    T = [len(w)]*256\n",
    "    for i in range(len(w) - 1):\n",
    "        T[ord(w[i])] = len(w) - 1 - i\n",
    "    return T    "
   ]
  },
  {
   "cell_type": "code",
   "execution_count": 7,
   "id": "44db72d1",
   "metadata": {},
   "outputs": [],
   "source": [
    "def BM(s, w):\n",
    "    \"\"\" Алгоритм Бойера-Мура \"\"\"\n",
    "    A = []\n",
    "    T = preprocess(w)\n",
    "    skip = 0\n",
    "    while len(s) - skip >= len(w):\n",
    "        if s[skip:skip + len(w)] == w:\n",
    "            A.append((skip, skip + len(w)))\n",
    "        skip += T[ord(s[skip + len(w) - 1])]\n",
    "    return A"
   ]
  },
  {
   "cell_type": "markdown",
   "id": "c4b923cb",
   "metadata": {},
   "source": [
    "#### Встроенная функция поиска"
   ]
  },
  {
   "cell_type": "code",
   "execution_count": 8,
   "id": "66290098",
   "metadata": {},
   "outputs": [],
   "source": [
    "def builtin_search(s, w):\n",
    "    A = []\n",
    "    index = s.find(w)\n",
    "    while index != -1:\n",
    "        A.append((index, index + len(w)))\n",
    "        index = s.find(w, index + 1)\n",
    "    return A"
   ]
  },
  {
   "cell_type": "markdown",
   "id": "00a2a1fa",
   "metadata": {},
   "source": [
    "### Предусмотреть возможность существования пробела. Реализовать возможность выбора опции чувствительности или нечувствительности к регистру."
   ]
  },
  {
   "cell_type": "code",
   "execution_count": 9,
   "id": "f1341208",
   "metadata": {},
   "outputs": [],
   "source": [
    "def search(s, w, fn=KMP, ignore_case=True, ignore_space=False):\n",
    "    \"\"\" Поиск подстроки с возможностью игнорирования пробелов и регистра \"\"\"\n",
    "    _s = s\n",
    "    _w = w\n",
    "    if ignore_case:\n",
    "        _s = _s.lower()\n",
    "        _w = _w.lower()\n",
    "    \n",
    "    if ignore_space:\n",
    "        _s = _s.replace(' ', '')\n",
    "        _w = _w.replace(' ', '')\n",
    "\n",
    "    A = fn(_s, _w)\n",
    "\n",
    "    if ignore_space:\n",
    "        nonspace = 0\n",
    "        kmp_without_space = 0\n",
    "        index = 0\n",
    "        while kmp_without_space < len(A) and index < len(s):\n",
    "            if A[kmp_without_space][0] == nonspace:\n",
    "                index_with_space_offsets = index\n",
    "                chars_count = 0\n",
    "                while chars_count < len(_w) and index_with_space_offsets < len(s):\n",
    "                    if s[index_with_space_offsets] != ' ':\n",
    "                        chars_count += 1\n",
    "                    index_with_space_offsets += 1\n",
    "                A[kmp_without_space] = (index, index_with_space_offsets)\n",
    "                kmp_without_space += 1\n",
    "            if s[index] != ' ': nonspace += 1\n",
    "            index += 1\n",
    "    \n",
    "    return A"
   ]
  },
  {
   "cell_type": "markdown",
   "id": "7585ff30",
   "metadata": {},
   "source": [
    "#### Стилизация вывода"
   ]
  },
  {
   "cell_type": "code",
   "execution_count": 10,
   "id": "3a56e6c3",
   "metadata": {},
   "outputs": [],
   "source": [
    "def substr_display(s, w, **kwargs):\n",
    "    A = search(s, w, **kwargs)\n",
    "    print('Входная строка:', s)\n",
    "    print('Паттерн:', w)\n",
    "    print()\n",
    "    for i, j in A:\n",
    "        display(HTML(f'{s[:i]}<b style=\"color:  Orange\">{s[i:j]}</b>{s[j:]}'))\n",
    "    print('\\n\\n')"
   ]
  },
  {
   "cell_type": "code",
   "execution_count": 11,
   "id": "f12fd074",
   "metadata": {},
   "outputs": [
    {
     "name": "stdout",
     "output_type": "stream",
     "text": [
      "АЛГОРИТМ - KMP\n",
      "\n",
      "Входная строка: ABCABCABCDABDABDABC\n",
      "Паттерн: ABC\n",
      "\n"
     ]
    },
    {
     "data": {
      "text/html": [
       "<b style=\"color:  Orange\">ABC</b>ABCABCDABDABDABC"
      ],
      "text/plain": [
       "<IPython.core.display.HTML object>"
      ]
     },
     "metadata": {},
     "output_type": "display_data"
    },
    {
     "data": {
      "text/html": [
       "ABC<b style=\"color:  Orange\">ABC</b>ABCDABDABDABC"
      ],
      "text/plain": [
       "<IPython.core.display.HTML object>"
      ]
     },
     "metadata": {},
     "output_type": "display_data"
    },
    {
     "data": {
      "text/html": [
       "ABCABC<b style=\"color:  Orange\">ABC</b>DABDABDABC"
      ],
      "text/plain": [
       "<IPython.core.display.HTML object>"
      ]
     },
     "metadata": {},
     "output_type": "display_data"
    },
    {
     "data": {
      "text/html": [
       "ABCABCABCDABDABD<b style=\"color:  Orange\">ABC</b>"
      ],
      "text/plain": [
       "<IPython.core.display.HTML object>"
      ]
     },
     "metadata": {},
     "output_type": "display_data"
    },
    {
     "name": "stdout",
     "output_type": "stream",
     "text": [
      "\n",
      "\n",
      "\n",
      "Входная строка: AbCABcABCDaBDAbDAbC\n",
      "Паттерн: Abc\n",
      "\n"
     ]
    },
    {
     "data": {
      "text/html": [
       "<b style=\"color:  Orange\">AbC</b>ABcABCDaBDAbDAbC"
      ],
      "text/plain": [
       "<IPython.core.display.HTML object>"
      ]
     },
     "metadata": {},
     "output_type": "display_data"
    },
    {
     "data": {
      "text/html": [
       "AbC<b style=\"color:  Orange\">ABc</b>ABCDaBDAbDAbC"
      ],
      "text/plain": [
       "<IPython.core.display.HTML object>"
      ]
     },
     "metadata": {},
     "output_type": "display_data"
    },
    {
     "data": {
      "text/html": [
       "AbCABc<b style=\"color:  Orange\">ABC</b>DaBDAbDAbC"
      ],
      "text/plain": [
       "<IPython.core.display.HTML object>"
      ]
     },
     "metadata": {},
     "output_type": "display_data"
    },
    {
     "data": {
      "text/html": [
       "AbCABcABCDaBDAbD<b style=\"color:  Orange\">AbC</b>"
      ],
      "text/plain": [
       "<IPython.core.display.HTML object>"
      ]
     },
     "metadata": {},
     "output_type": "display_data"
    },
    {
     "name": "stdout",
     "output_type": "stream",
     "text": [
      "\n",
      "\n",
      "\n",
      "Входная строка: A B C A B C AB CD AB DAB DA BC\n",
      "Паттерн: A b C\n",
      "\n"
     ]
    },
    {
     "data": {
      "text/html": [
       "<b style=\"color:  Orange\">A B C</b> A B C AB CD AB DAB DA BC"
      ],
      "text/plain": [
       "<IPython.core.display.HTML object>"
      ]
     },
     "metadata": {},
     "output_type": "display_data"
    },
    {
     "data": {
      "text/html": [
       "A B C<b style=\"color:  Orange\"> A B C</b> AB CD AB DAB DA BC"
      ],
      "text/plain": [
       "<IPython.core.display.HTML object>"
      ]
     },
     "metadata": {},
     "output_type": "display_data"
    },
    {
     "data": {
      "text/html": [
       "A B C A B C<b style=\"color:  Orange\"> AB C</b>D AB DAB DA BC"
      ],
      "text/plain": [
       "<IPython.core.display.HTML object>"
      ]
     },
     "metadata": {},
     "output_type": "display_data"
    },
    {
     "data": {
      "text/html": [
       "A B C A B C AB CD AB DAB D<b style=\"color:  Orange\">A BC</b>"
      ],
      "text/plain": [
       "<IPython.core.display.HTML object>"
      ]
     },
     "metadata": {},
     "output_type": "display_data"
    },
    {
     "name": "stdout",
     "output_type": "stream",
     "text": [
      "\n",
      "\n",
      "\n",
      "АЛГОРИТМ - BM\n",
      "\n",
      "Входная строка: ABCABCABCDABDABDABC\n",
      "Паттерн: ABC\n",
      "\n"
     ]
    },
    {
     "data": {
      "text/html": [
       "<b style=\"color:  Orange\">ABC</b>ABCABCDABDABDABC"
      ],
      "text/plain": [
       "<IPython.core.display.HTML object>"
      ]
     },
     "metadata": {},
     "output_type": "display_data"
    },
    {
     "data": {
      "text/html": [
       "ABC<b style=\"color:  Orange\">ABC</b>ABCDABDABDABC"
      ],
      "text/plain": [
       "<IPython.core.display.HTML object>"
      ]
     },
     "metadata": {},
     "output_type": "display_data"
    },
    {
     "data": {
      "text/html": [
       "ABCABC<b style=\"color:  Orange\">ABC</b>DABDABDABC"
      ],
      "text/plain": [
       "<IPython.core.display.HTML object>"
      ]
     },
     "metadata": {},
     "output_type": "display_data"
    },
    {
     "data": {
      "text/html": [
       "ABCABCABCDABDABD<b style=\"color:  Orange\">ABC</b>"
      ],
      "text/plain": [
       "<IPython.core.display.HTML object>"
      ]
     },
     "metadata": {},
     "output_type": "display_data"
    },
    {
     "name": "stdout",
     "output_type": "stream",
     "text": [
      "\n",
      "\n",
      "\n",
      "Входная строка: AbCABcABCDaBDAbDAbC\n",
      "Паттерн: Abc\n",
      "\n"
     ]
    },
    {
     "data": {
      "text/html": [
       "<b style=\"color:  Orange\">AbC</b>ABcABCDaBDAbDAbC"
      ],
      "text/plain": [
       "<IPython.core.display.HTML object>"
      ]
     },
     "metadata": {},
     "output_type": "display_data"
    },
    {
     "data": {
      "text/html": [
       "AbC<b style=\"color:  Orange\">ABc</b>ABCDaBDAbDAbC"
      ],
      "text/plain": [
       "<IPython.core.display.HTML object>"
      ]
     },
     "metadata": {},
     "output_type": "display_data"
    },
    {
     "data": {
      "text/html": [
       "AbCABc<b style=\"color:  Orange\">ABC</b>DaBDAbDAbC"
      ],
      "text/plain": [
       "<IPython.core.display.HTML object>"
      ]
     },
     "metadata": {},
     "output_type": "display_data"
    },
    {
     "data": {
      "text/html": [
       "AbCABcABCDaBDAbD<b style=\"color:  Orange\">AbC</b>"
      ],
      "text/plain": [
       "<IPython.core.display.HTML object>"
      ]
     },
     "metadata": {},
     "output_type": "display_data"
    },
    {
     "name": "stdout",
     "output_type": "stream",
     "text": [
      "\n",
      "\n",
      "\n",
      "Входная строка: A B C A B C AB CD AB DAB DA BC\n",
      "Паттерн: A b C\n",
      "\n"
     ]
    },
    {
     "data": {
      "text/html": [
       "<b style=\"color:  Orange\">A B C</b> A B C AB CD AB DAB DA BC"
      ],
      "text/plain": [
       "<IPython.core.display.HTML object>"
      ]
     },
     "metadata": {},
     "output_type": "display_data"
    },
    {
     "data": {
      "text/html": [
       "A B C<b style=\"color:  Orange\"> A B C</b> AB CD AB DAB DA BC"
      ],
      "text/plain": [
       "<IPython.core.display.HTML object>"
      ]
     },
     "metadata": {},
     "output_type": "display_data"
    },
    {
     "data": {
      "text/html": [
       "A B C A B C<b style=\"color:  Orange\"> AB C</b>D AB DAB DA BC"
      ],
      "text/plain": [
       "<IPython.core.display.HTML object>"
      ]
     },
     "metadata": {},
     "output_type": "display_data"
    },
    {
     "data": {
      "text/html": [
       "A B C A B C AB CD AB DAB D<b style=\"color:  Orange\">A BC</b>"
      ],
      "text/plain": [
       "<IPython.core.display.HTML object>"
      ]
     },
     "metadata": {},
     "output_type": "display_data"
    },
    {
     "name": "stdout",
     "output_type": "stream",
     "text": [
      "\n",
      "\n",
      "\n"
     ]
    }
   ],
   "source": [
    "for alg in (KMP, BM):\n",
    "    print(f'АЛГОРИТМ - {alg.__name__}\\n')\n",
    "    substr_display('ABCABCABCDABDABDABC', 'ABC', fn=alg)\n",
    "    substr_display('AbCABcABCDaBDAbDAbC', 'Abc', fn=alg, ignore_case=True)\n",
    "    substr_display('A B C A B C AB CD AB DAB DA BC', 'A b C', fn=alg, ignore_space=True)"
   ]
  },
  {
   "cell_type": "markdown",
   "id": "fb7234aa",
   "metadata": {},
   "source": [
    "### Сравнение алгоритмов"
   ]
  },
  {
   "cell_type": "code",
   "execution_count": 16,
   "id": "fd3fa704",
   "metadata": {},
   "outputs": [
    {
     "data": {
      "text/html": [
       "<table>\n",
       "<thead>\n",
       "<tr><th style=\"text-align: right;\">  </th><th>Алгоритм      </th><th style=\"text-align: right;\">    Время</th></tr>\n",
       "</thead>\n",
       "<tbody>\n",
       "<tr><td style=\"text-align: right;\"> 0</td><td>builtin_search</td><td style=\"text-align: right;\">5.62e-06 </td></tr>\n",
       "<tr><td style=\"text-align: right;\"> 1</td><td>BM            </td><td style=\"text-align: right;\">3.412e-05</td></tr>\n",
       "<tr><td style=\"text-align: right;\"> 2</td><td>KMP           </td><td style=\"text-align: right;\">4.755e-05</td></tr>\n",
       "</tbody>\n",
       "</table>"
      ],
      "text/plain": [
       "'<table>\\n<thead>\\n<tr><th style=\"text-align: right;\">  </th><th>Алгоритм      </th><th style=\"text-align: right;\">    Время</th></tr>\\n</thead>\\n<tbody>\\n<tr><td style=\"text-align: right;\"> 0</td><td>builtin_search</td><td style=\"text-align: right;\">5.62e-06 </td></tr>\\n<tr><td style=\"text-align: right;\"> 1</td><td>BM            </td><td style=\"text-align: right;\">3.412e-05</td></tr>\\n<tr><td style=\"text-align: right;\"> 2</td><td>KMP           </td><td style=\"text-align: right;\">4.755e-05</td></tr>\\n</tbody>\\n</table>'"
      ]
     },
     "execution_count": 16,
     "metadata": {},
     "output_type": "execute_result"
    }
   ],
   "source": [
    "from tabulate import tabulate\n",
    "bench_count = 10\n",
    "\n",
    "time_consumed = {}\n",
    "for alg in (KMP, BM, builtin_search):\n",
    "    time_start = time.perf_counter()\n",
    "    for i in range(bench_count):\n",
    "        alg('ABCABCABCDABDABDABC', 'ABC')\n",
    "        alg('ADBCHDBDBAHBCBACBDBEHABBBVHABBBVHABDAVHHCBABCB', 'AB')\n",
    "    time_end = time.perf_counter()\n",
    "    time_consumed[alg.__name__] = (time_end - time_start) / bench_count\n",
    "\n",
    "sorted_time = sorted(time_consumed.items(), key=lambda kv: kv[1])\n",
    "tabulate(sorted_time, headers=['Алгоритм','Время'], tablefmt='html', showindex=\"always\")"
   ]
  },
  {
   "cell_type": "markdown",
   "id": "7af30a07",
   "metadata": {},
   "source": [
    "### Добавить возможность ввода строки и подстроки с клавиатуры"
   ]
  },
  {
   "cell_type": "code",
   "execution_count": 17,
   "id": "6a5388f5",
   "metadata": {},
   "outputs": [
    {
     "data": {
      "application/vnd.jupyter.widget-view+json": {
       "model_id": "31c9b01dc40b43ae9cf729706d686df5",
       "version_major": 2,
       "version_minor": 0
      },
      "text/plain": [
       "VBox(children=(Text(value='', description='Строка', placeholder='Введите строку'), Text(value='', description=…"
      ]
     },
     "metadata": {},
     "output_type": "display_data"
    }
   ],
   "source": [
    "search_string = widgets.Text(\n",
    "    description='Строка',\n",
    "    placeholder='Введите строку'\n",
    ")\n",
    "search_pattern = widgets.Text(\n",
    "    description='Паттерн',\n",
    "    placeholder='Введите строку'\n",
    ")\n",
    "\n",
    "ignore_case = widgets.Checkbox(\n",
    "    value=False,\n",
    "    description='Игнорировать регистр'\n",
    ")\n",
    "\n",
    "ignore_space = widgets.Checkbox(\n",
    "    value=False,\n",
    "    description='Игнорировать пробел'\n",
    ")\n",
    "\n",
    "algs = {'KMP': KMP, 'BM': BM, 'Builtin': builtin_search}\n",
    "alg = widgets.Dropdown(\n",
    "    options=['KMP', 'BM', 'Builtin'],\n",
    "    value='KMP',\n",
    "    description='Алгоритм'\n",
    ")\n",
    "\n",
    "result = widgets.HTML()\n",
    "\n",
    "def update(c):\n",
    "    if search_string.value and search_pattern.value:\n",
    "        try:\n",
    "            s = search_string.value\n",
    "            A = search(s, search_pattern.value, algs[alg.value], ignore_case.value, ignore_space.value)\n",
    "            result.value = ''\n",
    "            for i, j in A:\n",
    "                result.value += f'<div>{s[:i]}<b style=\"color: red\">{s[i:j]}</b>{s[j:]}</div>'\n",
    "        except Exception as e:\n",
    "            result.value = str(e)\n",
    "\n",
    "search_string.observe(update)\n",
    "search_pattern.observe(update)\n",
    "ignore_case.observe(update)\n",
    "ignore_space.observe(update)\n",
    "alg.observe(update)\n",
    "\n",
    "update({})\n",
    "\n",
    "widgets.VBox([\n",
    "    search_string,\n",
    "    search_pattern,\n",
    "    alg,\n",
    "    ignore_case,\n",
    "    ignore_space,\n",
    "    result\n",
    "])"
   ]
  },
  {
   "cell_type": "markdown",
   "id": "cd361ec6",
   "metadata": {},
   "source": [
    "### Задание 2 «Пятнашки»\n",
    "\n",
    "#### Написать программу, определяющую, является ли данное расположение «решаемым», то есть можно ли из него за конечное число шагов перейти к правильному. Если это возможно, то необходимо найти хотя бы одно решение - последовательность движений, после которой числа будут расположены в правильном порядке.\n",
    "\n",
    "#### Входные данные: массив чисел, представляющий собой расстановку в Порядке «слева направо, сверху вниз». Число 0 обозначает пустое поле. Например, массив [1, 2, 3, 4, 5, 6, 7, 8, 9, 10, 11, 12, 13, 14, 15, 0] представляет собой «решенную» позицию элементов.\n",
    "\n",
    "#### Выходные данные: если решения нет, то функция должна вернуть Пустой массив []. Если решение есть, то необходимо представить решение — для каждого шага записывается номер передвигаемого на данном шаге элемента."
   ]
  },
  {
   "cell_type": "code",
   "execution_count": 18,
   "id": "ec99ea66",
   "metadata": {},
   "outputs": [
    {
     "name": "stdout",
     "output_type": "stream",
     "text": [
      "  1  2  3  4\n",
      "  5  6  7  8\n",
      " 13  9 11 12\n",
      " 10 14 15  0\n",
      "\n",
      "[15, 14, 10, 13, 9, 10, 14, 15]\n"
     ]
    }
   ],
   "source": [
    "from queue import PriorityQueue\n",
    "\n",
    "N = 4\n",
    "\n",
    "def moves(position):\n",
    "    blank = position.index(0)\n",
    "    i, j = divmod(blank, N)\n",
    "    offsets = []\n",
    "    if i > 0: offsets.append(-N)     # вниз\n",
    "    if i < N - 1: offsets.append(N)  # вверх\n",
    "    if j > 0: offsets.append(-1)     # вправо\n",
    "    if j < N - 1: offsets.append(1)  # влево\n",
    "    for offset in offsets:\n",
    "        swap = blank + offset\n",
    "        yield tuple(position[swap] if x==blank else position[blank] if x==swap else position[x] for x in range(N*N))\n",
    "\n",
    "\n",
    "def parity(permutation):\n",
    "    seen, cycles = set(), 0\n",
    "    for i in permutation:\n",
    "        if i not in seen:\n",
    "            cycles += 1\n",
    "            while i not in seen:\n",
    "                seen.add(i)\n",
    "                i = permutation[i]\n",
    "    return (cycles + len(permutation)) % 2\n",
    "\n",
    "\n",
    "class Position:\n",
    "    def __init__(self, position, start_distance):\n",
    "        self.position = position\n",
    "        self.start_distance = start_distance\n",
    "\n",
    "    def __lt__(self, other):\n",
    "        return self.start_distance < other.start_distance\n",
    "\n",
    "    def __str__(self):\n",
    "        return '\\n'.join((N*'{:3}').format(*[i%(N*N) for i in self.position[i:]]) for i in range(0, N*N, N))\n",
    "\n",
    "SOLVED = (1, 2, 3, 4, 5, 6, 7, 8, 9, 10, 11, 12, 13, 14, 15, 0)\n",
    "\n",
    "start = [1, 2, 3, 4, 5, 6, 7, 8, 13, 9, 11, 12, 10, 14, 15, 0]\n",
    "\n",
    "if parity(start) == 0:\n",
    "   \n",
    "    print('Нерешаемо')\n",
    "else:\n",
    "    start = tuple(start)\n",
    "\n",
    "    p = Position(start, 0)\n",
    "\n",
    "    print(p)\n",
    "    print()\n",
    "\n",
    "    candidates = PriorityQueue()\n",
    "    candidates.put(p)\n",
    "\n",
    "    visited = set([p])\n",
    "\n",
    "    came_from = {p.position: None}\n",
    "    \n",
    "    while p.position != SOLVED:\n",
    "        p = candidates.get()\n",
    "        for k in moves(p.position):\n",
    "            if k not in visited:\n",
    "                candidates.put(Position(k, p.start_distance + 1))\n",
    "                came_from[k] = p\n",
    "                visited.add(k)\n",
    "\n",
    "    path = []\n",
    "    prev = p\n",
    "    while p.position != start:\n",
    "        p = came_from[p.position]\n",
    "        number = p.position[prev.position.index(0)]\n",
    "        path.append(number)\n",
    "        prev = p\n",
    "    path.reverse()\n",
    "\n",
    "    print(path)"
   ]
  },
  {
   "cell_type": "code",
   "execution_count": null,
   "id": "d0a44cbe",
   "metadata": {},
   "outputs": [],
   "source": []
  },
  {
   "cell_type": "code",
   "execution_count": null,
   "id": "a8918574",
   "metadata": {},
   "outputs": [],
   "source": []
  }
 ],
 "metadata": {
  "kernelspec": {
   "display_name": "Python 3 (ipykernel)",
   "language": "python",
   "name": "python3"
  },
  "language_info": {
   "codemirror_mode": {
    "name": "ipython",
    "version": 3
   },
   "file_extension": ".py",
   "mimetype": "text/x-python",
   "name": "python",
   "nbconvert_exporter": "python",
   "pygments_lexer": "ipython3",
   "version": "3.10.2"
  }
 },
 "nbformat": 4,
 "nbformat_minor": 5
}
