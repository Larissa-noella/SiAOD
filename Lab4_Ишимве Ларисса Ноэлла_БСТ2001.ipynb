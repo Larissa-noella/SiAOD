{
 "cells": [
  {
   "cell_type": "markdown",
   "id": "171f065f",
   "metadata": {},
   "source": [
    "### Лабораторная работа №4\n",
    "#### Реализовать следующие структуры данных:\n",
    "#### Стек (stack): операции для стека: инициализация, проверка на пустоту, добавление нового элемента в начало, извлечение элемента из начала;\n",
    "\n",
    "#### Дек (двусторонняя очередь, deque): операции для дека: инициализация, проверка на пустоту, добавление нового элемента в начало, добавление нового элемента в конец, извлечение элемента из начала, извлечение элемента из конца"
   ]
  },
  {
   "cell_type": "markdown",
   "id": "c6309fc4",
   "metadata": {},
   "source": [
    "#### Стэк"
   ]
  },
  {
   "cell_type": "code",
   "execution_count": 1,
   "id": "4c026d57",
   "metadata": {},
   "outputs": [],
   "source": [
    "class LinkedList:\n",
    "    def __init__(self, value=None):\n",
    "        self.value = value\n",
    "        self.right = None\n",
    "        self.left = None"
   ]
  },
  {
   "cell_type": "code",
   "execution_count": 2,
   "id": "11bfc130",
   "metadata": {},
   "outputs": [],
   "source": [
    "class Stack:\n",
    "    # Конструктор стека\n",
    "    def __init__(self):\n",
    "        self.top = LinkedList()\n",
    "        self.size = 0\n",
    "        \n",
    "    # Длина стека\n",
    "    def __len__(self):\n",
    "        return self.size\n",
    "    \n",
    "    # Метод для вывода стека\n",
    "    def __str__(self):\n",
    "        return f\"Stack: {self.top}\"\n",
    "\n",
    "    # Проверка на наличие в стеке элементов\n",
    "    def isEmpty(self):\n",
    "        return self.size == 0\n",
    "    \n",
    "    # Положить элемент в начало\n",
    "    def push(self, value):\n",
    "        if self.size > 0:\n",
    "            node = LinkedList(value)\n",
    "            node.right = self.top\n",
    "            self.top = node\n",
    "        else:\n",
    "            self.top.value = value\n",
    "        self.size += 1\n",
    "    \n",
    "    # Удалить элемент\n",
    "    def pop(self):\n",
    "        if self.isEmpty():\n",
    "            return(\"Стэк пустой\")\n",
    "        remove = self.top\n",
    "        if self.size > 1:\n",
    "            self.top = remove.right\n",
    "        self.size -= 1\n",
    "        return remove.value\n",
    "    \n",
    "    # Посмотреть значение\n",
    "    def peek(self):\n",
    "        if self.isEmpty():\n",
    "            return(\"Стэк пустой\")\n",
    "        return self.top.value\n",
    "    \n",
    "    #Развернуть стек\n",
    "    def reverse(self):\n",
    "        current = self.top\n",
    "        prev = None\n",
    "        nex = None\n",
    "        while current is not None:\n",
    "            nex = current.right\n",
    "            current.right = prev\n",
    "            prev = current\n",
    "            current = nex\n",
    "\n",
    "        self.top = prev"
   ]
  },
  {
   "cell_type": "markdown",
   "id": "4bc76ffe",
   "metadata": {},
   "source": [
    "#### Дэк"
   ]
  },
  {
   "cell_type": "code",
   "execution_count": 3,
   "id": "3738bdcc",
   "metadata": {},
   "outputs": [],
   "source": [
    "class Deque:\n",
    "    # Констуркутор дека\n",
    "    def __init__(self):\n",
    "        self.top = LinkedList()\n",
    "        self.bottom = self.top\n",
    "        self.size = 0\n",
    "        \n",
    "    # Узнать длину дека\n",
    "    def __len__(self):\n",
    "        return self.size\n",
    "    \n",
    "    # Проверить наличие в нем элементов\n",
    "    def isEmpty(self):\n",
    "        return self.size == 0\n",
    "    \n",
    "    # Положить слева\n",
    "    def pushLeft(self, value):\n",
    "        if self.size > 0:\n",
    "            a = LinkedList(value)\n",
    "            a.right = self.bottom\n",
    "            self.bottom.left = a\n",
    "            self.bottom = a\n",
    "        else:\n",
    "            self.bottom.value = value\n",
    "        self.size += 1\n",
    "        \n",
    "    # Положить справа\n",
    "    def pushRight(self, value):\n",
    "        if self.size > 0:\n",
    "            a = LinkedList(value)\n",
    "            a.left = self.top\n",
    "            self.top.right = a\n",
    "            self.top = a\n",
    "        else:\n",
    "            self.top.value = value\n",
    "        self.size += 1\n",
    "        \n",
    "    # Удалить слева\n",
    "    def popLeft(self):\n",
    "        if self.isEmpty():\n",
    "            return('Пустой дэк')\n",
    "        remove = self.bottom\n",
    "        if self.size > 1:\n",
    "            self.bottom = remove.right\n",
    "        self.size -= 1\n",
    "        return remove.value\n",
    "    \n",
    "    # Удалить справа\n",
    "    def popRight(self):\n",
    "        if self.isEmpty():\n",
    "            return('Пустой дэк')\n",
    "        remove = self.top\n",
    "        if self.size > 1:\n",
    "            self.top = remove.left\n",
    "        self.size -= 1\n",
    "        return remove.value\n",
    "    \n",
    "    # Посмотреть значение справа\n",
    "    def peekRight(self):\n",
    "        if self.isEmpty():\n",
    "            return('Пустой дэк')\n",
    "        return self.top.value\n",
    "    \n",
    "    # Посмотреть значение справа\n",
    "    def peekLeft(self):\n",
    "        if self.isEmpty():\n",
    "            return('Пустой дэк')\n",
    "        return self.bottom.value"
   ]
  },
  {
   "cell_type": "markdown",
   "id": "19b82bf5",
   "metadata": {},
   "source": [
    "#### Задача 1\n",
    "#### Отсортировать строки файла, содержащие названия книг, в алфавитном порядке с использованием двух деков."
   ]
  },
  {
   "cell_type": "code",
   "execution_count": 4,
   "id": "019dabb7",
   "metadata": {},
   "outputs": [
    {
     "name": "stdout",
     "output_type": "stream",
     "text": [
      "\n",
      "\n",
      "Alchimiste\n",
      "\n",
      "Belle-grace\n",
      "\n",
      "Excellence\n",
      "\n",
      "Giana\n",
      "\n",
      "Impossible\n",
      "\n",
      "Invincible\n",
      "\n",
      "Iris\n",
      "\n",
      "Larose\n",
      "\n",
      "Madeleine\n",
      "\n",
      "Nature\n",
      "\n",
      "Wangrin\n",
      "\n"
     ]
    }
   ],
   "source": [
    "with open('lab4siaod/lab4siaod.txt', 'r') as books:\n",
    "    d1 = Deque()\n",
    "    d2 = Deque()\n",
    "    for book in books:\n",
    "        d1.pushRight(book)\n",
    "    while not d1.isEmpty():\n",
    "        a = d1.popRight()\n",
    "        while not d2.isEmpty() and d2.peekRight() > a:\n",
    "            d1.pushLeft(d2.popRight())\n",
    "        d2.pushRight(a)\n",
    "    while not d2.isEmpty():\n",
    "        print(d2.popLeft())"
   ]
  },
  {
   "cell_type": "markdown",
   "id": "430d6629",
   "metadata": {},
   "source": [
    "#### Задача 2\n",
    "#### Дек содержит последовательность символов для шифровки сообщений. Дан текстовый файл, содержащий зашифрованное сообщение. Пользуясь деком, расшифровать текст. Известно, что при шифровке каждый символ сообщения заменялся следующим за ним в деке по часовой стрелке через один."
   ]
  },
  {
   "cell_type": "code",
   "execution_count": 5,
   "id": "62bc8510",
   "metadata": {},
   "outputs": [],
   "source": [
    "a = list('абвгдеёжзийклмнопрстуфхцчшщъыьэюя')\n",
    "pattern = Deque()\n",
    "for letter in a:\n",
    "    pattern.pushRight(letter)"
   ]
  },
  {
   "cell_type": "code",
   "execution_count": 6,
   "id": "ff5762ac",
   "metadata": {},
   "outputs": [
    {
     "name": "stdout",
     "output_type": "stream",
     "text": [
      "никакого компромисса даже перед лицом армагеддона\n"
     ]
    }
   ],
   "source": [
    "def decode(char):\n",
    "    for x in range(len(pattern)):\n",
    "        a = pattern.popRight()\n",
    "        if a == char:\n",
    "            pattern.pushLeft(a)\n",
    "            decodedA = pattern.popRight()\n",
    "            pattern.pushLeft(decodedA)\n",
    "            return decodedA\n",
    "        pattern.pushLeft(a)\n",
    "        \n",
    "#       никакого компромисса даже перед лицом армагеддона      \n",
    "text = 'ойлблпдп лпнрспнйттб ебзё рёсёе мйчпн бснбдёеепоб'\n",
    "decoded = ''\n",
    "\n",
    "for letter in text:\n",
    "    decoded_letter = decode(letter)\n",
    "    if decoded_letter == None:\n",
    "        decoded += ' '\n",
    "    else:\n",
    "        decoded += decoded_letter\n",
    "\n",
    "print(decoded)"
   ]
  },
  {
   "cell_type": "markdown",
   "id": "c54d11d1",
   "metadata": {},
   "source": [
    "#### Задача 3\n",
    "#### Даны три стержня и n дисков различного размера. Диски можно надевать на стержни, образуя из них башни. Перенести n дисков со стержня А на стержень С, сохранив их первоначальный порядок. При переносе дисков необходимо соблюдать следующие правила:\n",
    "\n",
    "#### -на каждом шаге со стержня на стержень переносить только один диск;\n",
    "#### -диск нельзя помещать на диск меньшего размера;\n",
    "#### -для промежуточного хранения можно использовать стержень В.\n",
    "#### Реализовать алгоритм, используя три стека вместо стержней А, В, С."
   ]
  },
  {
   "cell_type": "code",
   "execution_count": 8,
   "id": "0189bb8d",
   "metadata": {},
   "outputs": [
    {
     "name": "stdout",
     "output_type": "stream",
     "text": [
      "Введите количество дисков: 10\n",
      "1\n",
      "2\n",
      "3\n",
      "4\n",
      "5\n",
      "6\n",
      "7\n",
      "8\n",
      "9\n",
      "10\n"
     ]
    }
   ],
   "source": [
    "A = Stack()\n",
    "B = Stack()\n",
    "C = Stack()\n",
    "\n",
    "n = int(input('Введите количество дисков: '))\n",
    "for i in range(n, 0, -1):\n",
    "    A.push(i)\n",
    "\n",
    "def move(a, b):\n",
    "    # Перенести можно только если один из шестов пустой\n",
    "    if len(a) == 0 and len(b) > 0:\n",
    "        a.push(b.pop())\n",
    "    elif len(a) > 0 and len(b) == 0:\n",
    "        b.push(a.pop())\n",
    "    # Или если на одном из шестов верхнее значение больше переносимого\n",
    "    elif a.peek() > b.peek():\n",
    "        a.push(b.pop())\n",
    "    else:\n",
    "        b.push(a.pop())\n",
    "\n",
    "if n % 2 == 0:\n",
    "    while len(C) != n:\n",
    "        move(A, B)\n",
    "        move(A, C)\n",
    "        move(B, C)\n",
    "else:\n",
    "    while len(C) != n:\n",
    "        move(A, C)\n",
    "        move(A, B)\n",
    "        move(B, C)\n",
    "\n",
    "while not C.isEmpty():\n",
    "    print(C.pop())\n",
    "    "
   ]
  },
  {
   "cell_type": "markdown",
   "id": "a1daadd7",
   "metadata": {},
   "source": [
    "#### Задача 4\n",
    "#### Дан текстовый файл с программой на алгоритмическом языке. За один просмотр файла проверить баланс круглых скобок в тексте, используя стек."
   ]
  },
  {
   "cell_type": "code",
   "execution_count": 11,
   "id": "e63589ce",
   "metadata": {},
   "outputs": [
    {
     "name": "stdout",
     "output_type": "stream",
     "text": [
      "Все хорошо\n"
     ]
    }
   ],
   "source": [
    "check = Stack() \n",
    "a = 0\n",
    "with open('lab4siaod/lab4siaodex4.txt', 'r') as brackets: \n",
    "    while True:\n",
    "        char = brackets.read(1)\n",
    "        if not char:\n",
    "            break\n",
    "        # Если элемент открытая скобка, то добавляем ее в стек\n",
    "        if char == '(':\n",
    "            check.push(char)\n",
    "        # Если элемет закрытая скобка, то, если до этого стек был пустой, то сообщаем о нехватке скобок\n",
    "        # Иначе добавляем в стек \n",
    "        elif char == ')':\n",
    "            if check.isEmpty():\n",
    "                print('Нехватка скобок')\n",
    "                a = 1\n",
    "                break\n",
    "            check.pop()\n",
    "                \n",
    "if a != 1 and len(check) == 0:\n",
    "    print(\"Все хорошо\")\n",
    "elif len(check) > 0 and check.peek() == \"(\":\n",
    "    print('Нехватка скобок')"
   ]
  },
  {
   "cell_type": "markdown",
   "id": "b87683d9",
   "metadata": {},
   "source": [
    "### Задача 5\n",
    "#### Дан текстовый файл с программой на алгоритмическом языке. За один просмотр файла проверить баланс квадратных скобок в тексте, используя дек."
   ]
  },
  {
   "cell_type": "code",
   "execution_count": 12,
   "id": "f0b855f9",
   "metadata": {},
   "outputs": [
    {
     "name": "stdout",
     "output_type": "stream",
     "text": [
      "Все хорошо\n"
     ]
    }
   ],
   "source": [
    "check = Deque()\n",
    "\n",
    "with open('lab4siaod/lab4siaodex4.txt', 'r') as brackets:    \n",
    "    while True:\n",
    "        char = brackets.read(1)\n",
    "        if not char:\n",
    "            break\n",
    "        # Если нашли открытую скобку, то добавляем ее справа\n",
    "        if char == '[':\n",
    "            check.pushRight(char)\n",
    "        # Иначе если нашли закрытую и дек пустой, то останавливем цикл\n",
    "        # После чего удаляем элемент, который добавили\n",
    "        elif char == ']':\n",
    "            if check.isEmpty():\n",
    "                break\n",
    "            check.popRight()\n",
    "            \n",
    "if check.isEmpty():\n",
    "    print(\"Все хорошо\")\n",
    "else:\n",
    "    print('Нехватка скобок')"
   ]
  },
  {
   "cell_type": "markdown",
   "id": "484165f8",
   "metadata": {},
   "source": [
    "### Задача 6\n",
    "#### Дан файл из символов.\n",
    "#### Используя стек, за один просмотр файла напечатать сначала все цифры, затем все буквы, и, наконец, все ## остальные символы, сохраняя исходный порядок в каждой группе символов."
   ]
  },
  {
   "cell_type": "code",
   "execution_count": 13,
   "id": "07224c8e",
   "metadata": {},
   "outputs": [
    {
     "name": "stdout",
     "output_type": "stream",
     "text": [
      "fromfastapiimportFastAPIappFastAPIappgetasyncdefreadonlynamestrreturnMessagefHelloname   \n",
      "\n",
      " = ()\n",
      "\n",
      "@.(\"/\")\n",
      "  _( : ):\n",
      "\t {\"\":\" {}\"}\n",
      "\n",
      "\n"
     ]
    }
   ],
   "source": [
    "letters = Stack()  \n",
    "digits = Stack()\n",
    "others = Stack()\n",
    "result = ''\n",
    "\n",
    "with open('lab4siaod/lab4siaodex4.txt', 'r') as f:\n",
    "    while True:\n",
    "        c = f.read(1)\n",
    "        if not c:\n",
    "            break   \n",
    "        if c.isalpha():\n",
    "            letters.push(c)\n",
    "        elif c.isdigit():\n",
    "            digits.push(c)\n",
    "        else:\n",
    "            others.push(c)\n",
    "            \n",
    "    letters.reverse()\n",
    "    digits.reverse()\n",
    "    others.reverse()   \n",
    "    \n",
    "    while not digits.isEmpty():\n",
    "        result += digits.pop()\n",
    "    while not letters.isEmpty():\n",
    "        result += letters.pop()\n",
    "    while not others.isEmpty():\n",
    "        result += others.pop()\n",
    "            \n",
    "print(result)"
   ]
  },
  {
   "cell_type": "markdown",
   "id": "107e08ad",
   "metadata": {},
   "source": [
    "### Задача 7\n",
    "#### Дан файл из целых чисел. Используя дек, за один просмотр файла напечатать сначала все отрицательные числа, затем все положительные числа, сохраняя исходный порядок в каждой группе."
   ]
  },
  {
   "cell_type": "code",
   "execution_count": 14,
   "id": "18a25780",
   "metadata": {},
   "outputs": [
    {
     "name": "stdout",
     "output_type": "stream",
     "text": [
      "[1, -33, 567, -445, 56, 76, -78, 90, 2003, -678, 20000]\n",
      "-33\n",
      "-445\n",
      "-78\n",
      "-678\n",
      "1\n",
      "567 \n",
      "\n",
      "56\n",
      "\n",
      "76 \n",
      "\n",
      "90 \n",
      "\n",
      "2003 \n",
      "\n",
      "20000\n"
     ]
    }
   ],
   "source": [
    "with open('lab4siaod/lab4siaodex7.txt', 'r') as numbers:\n",
    "    d = Deque()\n",
    "    arr = []\n",
    "    for number in numbers:\n",
    "        arr.append(int(number))\n",
    "        if int(number) < 0:\n",
    "            d.pushLeft(number)\n",
    "        else:\n",
    "            d.pushRight(number)\n",
    "    print(arr)    \n",
    "    while not d.isEmpty():\n",
    "        x = int(d.popLeft().strip())\n",
    "        if x < 0:\n",
    "            d.pushRight(x)\n",
    "        else:\n",
    "            d.pushLeft(x)\n",
    "            break\n",
    "\n",
    "    while not d.isEmpty():\n",
    "        x = int(d.popRight())\n",
    "        if x < 0:\n",
    "            print(x)\n",
    "        else:\n",
    "            d.pushRight(x)\n",
    "            break\n",
    "\n",
    "    while not d.isEmpty():\n",
    "        print(d.popLeft())"
   ]
  },
  {
   "cell_type": "markdown",
   "id": "174a4bc0",
   "metadata": {},
   "source": [
    "### Задача 8\n",
    "#### Дан текстовый файл. Используя стек, сформировать новый текстовый файл, содержащий строки исходного файла, записанные в обратном порядке: первая строка становится последней, вторая – предпоследней и т.д."
   ]
  },
  {
   "cell_type": "code",
   "execution_count": 19,
   "id": "7a398815",
   "metadata": {},
   "outputs": [
    {
     "name": "stdout",
     "output_type": "stream",
     "text": [
      "Impossible\n",
      "Nature\n",
      "Wangrin\n",
      "Alchimiste\n",
      "Madeleine\n",
      "Excellence\n",
      "Giana\n",
      "Iris\n",
      "Larose\n",
      "Invincible\n",
      "Belle-grace\n",
      "\n",
      "\n"
     ]
    }
   ],
   "source": [
    "with open('lab4siaod/lab4siaod.txt', 'r') as books:\n",
    "    stack = Stack()\n",
    "    for book in books:\n",
    "        book = book.strip()\n",
    "        print(book)\n",
    "        stack.push(book)\n",
    "    print()"
   ]
  },
  {
   "cell_type": "code",
   "execution_count": null,
   "id": "23f02e9e",
   "metadata": {},
   "outputs": [],
   "source": []
  }
 ],
 "metadata": {
  "kernelspec": {
   "display_name": "Python 3 (ipykernel)",
   "language": "python",
   "name": "python3"
  },
  "language_info": {
   "codemirror_mode": {
    "name": "ipython",
    "version": 3
   },
   "file_extension": ".py",
   "mimetype": "text/x-python",
   "name": "python",
   "nbconvert_exporter": "python",
   "pygments_lexer": "ipython3",
   "version": "3.10.2"
  }
 },
 "nbformat": 4,
 "nbformat_minor": 5
}
