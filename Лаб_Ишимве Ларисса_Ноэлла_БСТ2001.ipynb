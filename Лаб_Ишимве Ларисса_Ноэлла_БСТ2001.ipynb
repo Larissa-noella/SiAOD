{
 "cells": [
  {
   "cell_type": "markdown",
   "id": "a67ad1b7",
   "metadata": {},
   "source": [
    "# Лабораторная работа №2\n",
    "## Выполнила студентка группы БСТ2001 Ишимве Ларисса Ноэлла\n"
   ]
  },
  {
   "cell_type": "markdown",
   "id": "933226ae",
   "metadata": {},
   "source": [
    "##### Реализовать методы поиска в соответствии с заданием. Организовать генерацию начального набора случайных данных. Для всех вариантов добавить реализацию добавления, поиска и удаления элементов. Оценить время работы каждого алгоритма поиска и сравнить его со временем работы стандартной функции поиска, используемой в выбранном языке программирования.\n"
   ]
  },
  {
   "cell_type": "markdown",
   "id": "4fa3c2cf",
   "metadata": {},
   "source": [
    "### Задание 1"
   ]
  },
  {
   "cell_type": "markdown",
   "id": "cf433aca",
   "metadata": {},
   "source": [
    " ### 1 Бинарный поиск\n"
   ]
  },
  {
   "cell_type": "code",
   "execution_count": 33,
   "id": "07e69700",
   "metadata": {},
   "outputs": [
    {
     "name": "stdout",
     "output_type": "stream",
     "text": [
      "[-50, -50, -49, -45, -44, -39, -37, -35, -34, -29, -27, -27, -20, -20, -19, -16, -13, -11, -9, -6, -3, -1, 1, 3, 5, 12, 14, 14, 20, 24, 27, 28, 30, 34, 35, 37, 38, 38, 39, 39, 40, 40, 41, 41, 42, 43, 44, 45, 46, 47]\n",
      "Введите число для поиска: 43\n",
      "45\n",
      "7.268689870834351\n"
     ]
    }
   ],
   "source": [
    "from random import randint\n",
    "import time\n",
    "import numpy as np\n",
    "\n",
    "start = time.time()\n",
    "def binarySearch(arr, key):\n",
    "    left = 0\n",
    "    right = len(arr) - 1\n",
    "    while left <= right:\n",
    "        mid = (right + left) // 2\n",
    "        if key > arr[mid]:\n",
    "            left = mid + 1\n",
    "        elif key < arr[mid]:\n",
    "            right = mid - 1\n",
    "        else:\n",
    "            return mid\n",
    "    return \"No results\"\n",
    "\n",
    "\n",
    "n = 50\n",
    "\n",
    "arr = [randint(-50, 50) for i in range(n)]\n",
    "arr = sorted(arr)\n",
    "print(arr)\n",
    "key = int(input(\"Введите число для поиска: \"))\n",
    "print(binarySearch(arr, key))\n",
    "print(time.time() - start)"
   ]
  },
  {
   "cell_type": "markdown",
   "id": "e08422a5",
   "metadata": {},
   "source": [
    "#### 2 Бинарное дерево\n"
   ]
  },
  {
   "cell_type": "code",
   "execution_count": 34,
   "id": "1d511733",
   "metadata": {},
   "outputs": [
    {
     "name": "stdout",
     "output_type": "stream",
     "text": [
      "[-493, -389, 63, 376, 331, 156, 468, -202, 459, -231, 376, 62, -284, 340, -275, -385, -487, -490, 445, -9, -121, 210, 467, -50, -322, -20, 409, -379, -17, 142, 39, -214, -69, 89, 36, -87, -334, 68, 264, 265, -141, -21, 343, 334, 481, 7, 92, 279, 183, -92, -46, 295, 289, -342, 16, 497, -403, 293, 213, 221, 306, 163, -248, 106, -257, 90, 234, -20, 418, 82, -55, -445, -213, 174, -279, 44, -399, 474, -316, 353, -182, -409, -34, -285, 237, 450, -58, -318, -157, -60, -66, 417, -7, 110, 86, 58, 5, 194, -358, 323]\n",
      "Введите число для поиска: 82\n",
      "Success! 82 найдено!\n",
      "9.33111023902893\n"
     ]
    }
   ],
   "source": [
    "from random import randint\n",
    "import time\n",
    "\n",
    "start = time.time()\n",
    "class Tree:\n",
    "    def __init__(self, val):\n",
    "        self.left = None\n",
    "        self.right = None\n",
    "        self.val = val\n",
    "\n",
    "    def insert(self, val):\n",
    "        if self.val:\n",
    "            if val < self.val:\n",
    "                if self.left is None:\n",
    "                    self.left = Tree(val)\n",
    "                else:\n",
    "                    self.left.insert(val)\n",
    "            else:\n",
    "                if self.right is None:\n",
    "                    self.right = Tree(val)\n",
    "                else:\n",
    "                    self.right.insert(val)\n",
    "        else:\n",
    "            self.val = val\n",
    "\n",
    "    def search(self, val):\n",
    "        if self.val == val:\n",
    "            print(\"Success!\", val, \"найдено!\")\n",
    "            return self\n",
    "        else:\n",
    "            if val < self.val:\n",
    "                if self.left is not None:\n",
    "                    return self.left.search(val)\n",
    "                else:\n",
    "                    print(val, \"not found!\")\n",
    "            elif val > self.val:\n",
    "                if self.right is not None:\n",
    "                    return self.right.search(val)\n",
    "                else:\n",
    "                    print(val, \"not found!\")\n",
    "\n",
    "    def delete(self, obj):\n",
    "        if self.left.val == obj.val:\n",
    "            self.left = None\n",
    "            return\n",
    "        elif self.right.val == obj.val:\n",
    "            self.right = None\n",
    "            return\n",
    "        return self.delete(obj.left)\n",
    "\n",
    "    def insertLostValues(self, arr):\n",
    "        for x in arr:\n",
    "            Tree.insert(self, x)\n",
    "\n",
    "    def collectValues(self, obj):\n",
    "        arr = []\n",
    "        if obj is not None:\n",
    "            arr = self.collectValues(obj.left)\n",
    "            obj.left = None\n",
    "            arr.append(obj.val)\n",
    "            arr += self.collectValues(obj.right)\n",
    "            obj.right = None\n",
    "        return arr\n",
    "\n",
    "    def printTree(self):\n",
    "        if self is not None:\n",
    "            if self.left is not None:\n",
    "                print(\"Root: \", self.val)\n",
    "                print(\"L:\", self.left.val)\n",
    "                self.left.printTree()\n",
    "            if self.right is not None:\n",
    "                print(\"Root: \", self.val)\n",
    "                print(\"R:\", self.right.val)\n",
    "                self.right.printTree()\n",
    "n = 100\n",
    "arr = [randint(-500, 500) for i in range(n)]\n",
    "print (arr)\n",
    "key = int(input(\"Введите число для поиска: \"))\n",
    "root = Tree(arr[0])\n",
    "for x in arr[1::]:\n",
    "    root.insert(x)\n",
    "root.search(key)\n",
    "print(time.time() - start)"
   ]
  },
  {
   "cell_type": "markdown",
   "id": "6cb3ab71",
   "metadata": {},
   "source": [
    "#### 3 Фибоначчиев поиск"
   ]
  },
  {
   "cell_type": "code",
   "execution_count": 35,
   "id": "92d0468b",
   "metadata": {},
   "outputs": [
    {
     "name": "stdout",
     "output_type": "stream",
     "text": [
      "[-476, -473, -467, -433, -430, -395, -358, -353, -349, -346, -333, -331, -304, -302, -301, -299, -286, -281, -271, -264, -246, -223, -220, -187, -168, -135, -133, -133, -122, -120, -118, -108, -106, -98, -56, -51, -39, -36, -29, -23, -14, -12, 4, 13, 22, 27, 29, 31, 34, 36, 83, 89, 106, 114, 126, 140, 164, 164, 180, 182, 183, 198, 199, 206, 211, 219, 227, 230, 253, 264, 273, 282, 283, 291, 301, 348, 352, 354, 359, 362, 362, 364, 369, 376, 385, 387, 387, 393, 401, 412, 415, 416, 417, 430, 430, 432, 443, 454, 457, 494]\n",
      "Введите элемент для поиска: 199\n",
      "62\n",
      "5.701045036315918\n"
     ]
    }
   ],
   "source": [
    "from random import randint\n",
    "import time\n",
    "\n",
    "start = time.time()\n",
    "def FibonacciSearch(arr, val):\n",
    "    fibM_minus_2 = 0\n",
    "    fibM_minus_1 = 1\n",
    "    fibM = fibM_minus_1 + fibM_minus_2\n",
    "    while fibM < len(arr):\n",
    "        fibM_minus_2 = fibM_minus_1\n",
    "        fibM_minus_1 = fibM\n",
    "        fibM = fibM_minus_1 + fibM_minus_2\n",
    "    index = -1;\n",
    "    while fibM > 1:\n",
    "        i = min(index + fibM_minus_2, (len(arr)-1))\n",
    "        if arr[i] < val:\n",
    "            fibM = fibM_minus_1\n",
    "            fibM_minus_1 = fibM_minus_2\n",
    "            fibM_minus_2 = fibM - fibM_minus_1\n",
    "            index = i\n",
    "        elif arr[i] > val:\n",
    "            fibM = fibM_minus_2\n",
    "            fibM_minus_1 = fibM_minus_1 - fibM_minus_2\n",
    "            fibM_minus_2 = fibM - fibM_minus_1\n",
    "        else :\n",
    "            return i\n",
    "    if(fibM_minus_1 and index < (len(arr)-1) and arr[index+1] == val):\n",
    "        return index+1;\n",
    "    return \"No results\"\n",
    "\n",
    "\n",
    "\n",
    "n = 100\n",
    "arr = [randint(-500, 500) for i in range(n)]\n",
    "arr = sorted(arr)\n",
    "print(arr)\n",
    "key = int(input(\"Введите элемент для поиска: \"))\n",
    "print(FibonacciSearch(arr, key))\n",
    "print(time.time() - start)"
   ]
  },
  {
   "cell_type": "markdown",
   "id": "bffc672f",
   "metadata": {},
   "source": [
    "#### 4 Интерполяционный поиск"
   ]
  },
  {
   "cell_type": "code",
   "execution_count": 36,
   "id": "a4b1f88c",
   "metadata": {},
   "outputs": [
    {
     "name": "stdout",
     "output_type": "stream",
     "text": [
      "[-488, -482, -459, -456, -451, -449, -432, -430, -426, -422, -400, -377, -370, -365, -342, -328, -327, -305, -295, -293, -285, -258, -223, -219, -215, -214, -212, -199, -198, -186, -182, -153, -144, -126, -122, -119, -112, -111, -109, -106, -41, -22, -21, -10, -10, -2, 2, 4, 50, 60, 62, 78, 81, 92, 97, 102, 135, 141, 146, 173, 174, 199, 203, 208, 217, 221, 224, 233, 239, 261, 268, 273, 274, 277, 289, 291, 313, 315, 323, 329, 332, 337, 351, 357, 362, 388, 390, 398, 402, 404, 408, 429, 433, 446, 449, 468, 469, 470, 486, 499]\n",
      "Введите элемент для поиска: 208\n",
      "63\n",
      "8.816306591033936\n"
     ]
    }
   ],
   "source": [
    "from random import randint\n",
    "import time\n",
    "\n",
    "\n",
    "start = time.time()\n",
    "def interSearch(arr, key):\n",
    "    left = 0\n",
    "    right = n - 1\n",
    "    while arr[left] <= key <= arr[right]:\n",
    "        mid = int(left + (((key - arr[left]) * (right - left)) / (arr[right] - arr[left])))\n",
    "        if arr[mid] < key:\n",
    "            left = mid + 1\n",
    "        elif arr[mid] > key:\n",
    "            right = mid - 1\n",
    "        else:\n",
    "            return mid\n",
    "    return \"No results\"\n",
    "\n",
    "\n",
    "n = 100\n",
    "arr = [randint(-500, 500) for i in range(n)]\n",
    "arr = sorted(arr)\n",
    "print(arr)\n",
    "key = int(input(\"Введите элемент для поиска: \"))\n",
    "print(interSearch(arr, key))\n",
    "print(time.time() - start)"
   ]
  },
  {
   "cell_type": "markdown",
   "id": "9c60ba0a",
   "metadata": {},
   "source": [
    "### Задание 2\n",
    "#### 1 Простое рехэширование"
   ]
  },
  {
   "cell_type": "code",
   "execution_count": 37,
   "id": "ec22d60c",
   "metadata": {},
   "outputs": [],
   "source": [
    "\n",
    "class ClassForRehash:\n",
    "    \"\"\"\n",
    "    Класс для наглядных примеров рехэширования\n",
    "    \"\"\"\n",
    "    def __init__(self, value1):\n",
    "        self.value1 = value1\n",
    "\n",
    "    MAX_HASH_TABLE = 8\n",
    "    def __hash__(self):\n",
    "        \"\"\"\n",
    "        Крайне простое хэширование (для наглядности). \\r\\n\n",
    "        Особенность:\n",
    "            -Хеш зависит только от единиц в числе value1 (для удобства создания коллизий)\n",
    "        \"\"\"\n",
    "\n",
    "        return int((((self.value1 % ClassForRehash.MAX_HASH_TABLE) * 331) & 127) % ClassForRehash.MAX_HASH_TABLE)"
   ]
  },
  {
   "cell_type": "code",
   "execution_count": 38,
   "id": "fe3894b2",
   "metadata": {},
   "outputs": [],
   "source": [
    "class SimpleRehashTable:\n",
    "\n",
    "    def __init__(self, length):\n",
    "        self.table = [None] * length\n",
    "\n",
    "    def add_el(self, element):\n",
    "        original_hash = element.__hash__()\n",
    "        if self.table[original_hash] is None:\n",
    "            self.table[original_hash] = element\n",
    "            print(\"объект со значением %i имеет хэш: %i (рехеширование не требовалось)\"\n",
    "                  % (self.table[original_hash].value1, original_hash))\n",
    "            return\n",
    "\n",
    "        \"\"\"\"\"\n",
    "        простое рехеширование\n",
    "        \"\"\"\"\"\n",
    "        new_hash = original_hash + 1\n",
    "        while new_hash != original_hash:\n",
    "            if new_hash >= len(self.table):\n",
    "                new_hash = 0\n",
    "                continue\n",
    "            if self.table[new_hash] is None:\n",
    "                self.table[new_hash] = element\n",
    "                print(\"объект со значением %i имеет хэш: %i (рехешировано. коллизия была в хеше: %i)\"\n",
    "                      % (self.table[new_hash].value1, new_hash, original_hash))\n",
    "                return\n",
    "            new_hash += 1\n",
    "        print(\"таблица заполнена!\")\n",
    "        return\n"
   ]
  },
  {
   "cell_type": "code",
   "execution_count": 39,
   "id": "546747e2",
   "metadata": {},
   "outputs": [
    {
     "name": "stdout",
     "output_type": "stream",
     "text": [
      "объект со значением 2 имеет хэш: 6 (рехеширование не требовалось)\n",
      "объект со значением 5 имеет хэш: 7 (рехеширование не требовалось)\n",
      "объект со значением 1 имеет хэш: 3 (рехеширование не требовалось)\n",
      "объект со значением 3 имеет хэш: 1 (рехеширование не требовалось)\n",
      "объект со значением 4 имеет хэш: 4 (рехеширование не требовалось)\n",
      "объект со значением 2 имеет хэш: 0 (рехешировано. коллизия была в хеше: 6)\n",
      "объект со значением 4 имеет хэш: 5 (рехешировано. коллизия была в хеше: 4)\n",
      "объект со значением 6 имеет хэш: 2 (рехеширование не требовалось)\n",
      "таблица заполнена!\n",
      "таблица заполнена!\n",
      "0.001997709274291992\n"
     ]
    }
   ],
   "source": [
    "import time\n",
    "import random\n",
    "\n",
    "t0=time.time()\n",
    "simple_re = SimpleRehashTable(ClassForRehash.MAX_HASH_TABLE)\n",
    "for i in range(len(simple_re.table) + 2):\n",
    "    simple_re.add_el(ClassForRehash(random.randint(0, 9)))\n",
    "tfinal= time.time()-t0\n",
    "print (tfinal)"
   ]
  },
  {
   "cell_type": "markdown",
   "id": "81bbe34d",
   "metadata": {},
   "source": [
    "#### 2 Рехэширование с помощью псевдослучайных чисел"
   ]
  },
  {
   "cell_type": "code",
   "execution_count": 40,
   "id": "dc0b6ba7",
   "metadata": {},
   "outputs": [],
   "source": [
    "class RandomRehashTable:\n",
    "\n",
    "    def __init__(self, length):\n",
    "        self.table = [None] * length\n",
    "\n",
    "    def add_el(self, element):\n",
    "        original_hash = element.__hash__()\n",
    "        if self.table[original_hash] is None:\n",
    "            self.table[original_hash] = element\n",
    "            print(\"объект со значением %i имеет хэш: %i (рехеширование не требовалось)\"\n",
    "                  % (self.table[original_hash].value1, original_hash))\n",
    "            return\n",
    "\n",
    "        \"\"\"\"\"\n",
    "        случайное рехеширование\n",
    "        \"\"\"\"\"\n",
    "        table_len = len(self.table)\n",
    "        r = 1\n",
    "        for ii in range(10):  # range(число попыток определить новый хеш)\n",
    "            r *= 5\n",
    "            r = r % (4 * table_len)\n",
    "            new_hash = r // 4\n",
    "            if self.table[new_hash] is None:\n",
    "                self.table[new_hash] = element\n",
    "                print(\"объект со значением %i имеет хэш: %i (рехешировано. коллизия была в хеше: %i)\"\n",
    "                      % (self.table[new_hash].value1, new_hash, original_hash))\n",
    "                return\n",
    "        print(\"Не удалось найти свободный хеш в таблице!\")\n",
    "        return"
   ]
  },
  {
   "cell_type": "code",
   "execution_count": 41,
   "id": "75118fd6",
   "metadata": {
    "scrolled": true
   },
   "outputs": [
    {
     "name": "stdout",
     "output_type": "stream",
     "text": [
      "объект со значением 4 имеет хэш: 4 (рехеширование не требовалось)\n",
      "объект со значением 2 имеет хэш: 6 (рехеширование не требовалось)\n",
      "объект со значением 9 имеет хэш: 3 (рехеширование не требовалось)\n",
      "объект со значением 0 имеет хэш: 0 (рехеширование не требовалось)\n",
      "объект со значением 7 имеет хэш: 5 (рехеширование не требовалось)\n",
      "объект со значением 4 имеет хэш: 1 (рехешировано. коллизия была в хеше: 4)\n",
      "объект со значением 2 имеет хэш: 7 (рехешировано. коллизия была в хеше: 6)\n",
      "объект со значением 1 имеет хэш: 2 (рехешировано. коллизия была в хеше: 3)\n",
      "Не удалось найти свободный хеш в таблице!\n",
      "Не удалось найти свободный хеш в таблице!\n",
      "0.0010001659393310547\n"
     ]
    }
   ],
   "source": [
    "import time\n",
    "t0=time.time()\n",
    "random_re = RandomRehashTable(ClassForRehash.MAX_HASH_TABLE)\n",
    "for i in range(len(random_re.table) + 2):\n",
    "    random_re.add_el(ClassForRehash(random.randint(0, 9)))\n",
    "tfinal=time.time()-t0\n",
    "print(tfinal)"
   ]
  },
  {
   "cell_type": "markdown",
   "id": "5724bf71",
   "metadata": {},
   "source": [
    "### 3 Метод цепочек\n"
   ]
  },
  {
   "cell_type": "code",
   "execution_count": 42,
   "id": "9e3a2e96",
   "metadata": {},
   "outputs": [],
   "source": [
    "class ChainRehashTable:\n",
    "\n",
    "    def __init__(self, length):\n",
    "        self.table = [None] * length\n",
    "\n",
    "    def add_el(self, element):\n",
    "        \"\"\"\"\"\n",
    "        метод цепочек\n",
    "        \"\"\"\"\"\n",
    "        original_hash = element.__hash__()\n",
    "        if self.table[original_hash] is None:\n",
    "            self.table[original_hash] = [element]\n",
    "            return\n",
    "        else:\n",
    "            length = len(self.table[original_hash])\n",
    "            self.table[original_hash].append(element)\n",
    "            return"
   ]
  },
  {
   "cell_type": "code",
   "execution_count": 43,
   "id": "220745e0",
   "metadata": {},
   "outputs": [
    {
     "name": "stdout",
     "output_type": "stream",
     "text": [
      "[hash: 0] 0 0 \n",
      "[hash: 1] Empty\n",
      "[hash: 2] 6 \n",
      "[hash: 3] 1 9 \n",
      "[hash: 4] 4 \n",
      "[hash: 5] 7 \n",
      "[hash: 6] Empty\n",
      "[hash: 7] 5 5 5 \n"
     ]
    }
   ],
   "source": [
    "chain_re = ChainRehashTable(ClassForRehash.MAX_HASH_TABLE)\n",
    "for i in range(len(chain_re.table) + 2):\n",
    "    chain_re.add_el(ClassForRehash(random.randint(0, 9)))\n",
    "hash = 0\n",
    "for x in chain_re.table:  # вывод хеш таблицы для метода цепочек\n",
    "    print(\"[hash: %i]\" % hash, end=\" \")\n",
    "    if x is None:\n",
    "        print(\"Empty\")\n",
    "    else:\n",
    "        for y in x:\n",
    "            print(y.value1, end=\" \")\n",
    "        print(\"\")\n",
    "    hash += 1"
   ]
  },
  {
   "cell_type": "markdown",
   "id": "da5a1f8c",
   "metadata": {},
   "source": [
    "### Задание №3\n",
    "##### Расставить на стандартной 64-клеточной шахматной доске 8 ферзей так, чтобы ни один из них не находился под боем другого». Подразумевается, что ферзь бьёт все клетки, расположенные по вертикалям, горизонталям и обеим диагоналям. Написать программу,  которая находит хотя бы один способ решения задач.\n"
   ]
  },
  {
   "cell_type": "code",
   "execution_count": 44,
   "id": "8cf9e66a",
   "metadata": {},
   "outputs": [
    {
     "name": "stdout",
     "output_type": "stream",
     "text": [
      "8\n",
      ". Ф . . . . . .\n",
      ". . . Ф . . . .\n",
      ". . . . . Ф . .\n",
      ". . . . . . . Ф\n",
      ". . Ф . . . . .\n",
      "Ф . . . . . . .\n",
      ". . . . . . Ф .\n",
      ". . . . Ф . . .\n",
      "\n",
      "\n",
      ". . . . Ф . . .\n",
      ". . . . . . Ф .\n",
      "Ф . . . . . . .\n",
      ". . Ф . . . . .\n",
      ". . . . . . . Ф\n",
      ". . . . . Ф . .\n",
      ". . . Ф . . . .\n",
      ". Ф . . . . . .\n"
     ]
    }
   ],
   "source": [
    "n=int(input())\n",
    "if n%6==2:\n",
    "    even=list(range(1,n,2))\n",
    "    odd=list(range(2,n,2))\n",
    "    odd[1]=0\n",
    "    odd.append(4)\n",
    "elif n%6==3:\n",
    "    even=list(range(3, n, 2))\n",
    "    odd=list(range(4, n, 2))\n",
    "    even.append(1)\n",
    "    odd.append(0)\n",
    "    odd.append(2)\n",
    "else:\n",
    "    even=list(range(1,n,2))\n",
    "    odd=list(range(0,n,2))\n",
    "rez=even+odd\n",
    "row=[\".\"]*n\n",
    "for i in range(n):\n",
    "    j=rez[i]\n",
    "    row[j]=\"Ф\"\n",
    "    print(*row)\n",
    "    row[j]=\".\"\n",
    "i=n-1\n",
    "print(\"\\n\")\n",
    "while i>=0:\n",
    "    j=rez[i]\n",
    "    row[j]=\"Ф\"\n",
    "    print(*row)\n",
    "    row[j]=\".\"\n",
    "    i-=1"
   ]
  },
  {
   "cell_type": "code",
   "execution_count": null,
   "id": "908440d9",
   "metadata": {},
   "outputs": [],
   "source": []
  }
 ],
 "metadata": {
  "kernelspec": {
   "display_name": "Python 3 (ipykernel)",
   "language": "python",
   "name": "python3"
  },
  "language_info": {
   "codemirror_mode": {
    "name": "ipython",
    "version": 3
   },
   "file_extension": ".py",
   "mimetype": "text/x-python",
   "name": "python",
   "nbconvert_exporter": "python",
   "pygments_lexer": "ipython3",
   "version": "3.10.2"
  }
 },
 "nbformat": 4,
 "nbformat_minor": 5
}
