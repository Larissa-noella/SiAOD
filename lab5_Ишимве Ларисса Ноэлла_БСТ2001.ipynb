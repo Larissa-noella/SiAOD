{
 "cells": [
  {
   "cell_type": "markdown",
   "id": "68096571",
   "metadata": {},
   "source": [
    "# Лабораторная работа №5\n",
    "# Рекурсия. Фракталы.\n",
    "# Выпольнила студентка группы БСТ2001_ Ишимве Ларисса Ноэлла \n",
    "\n"
   ]
  },
  {
   "cell_type": "markdown",
   "id": "502deacd",
   "metadata": {},
   "source": [
    "### Задание:\n",
    "#### Реализовать генерацию заданного типа фрактала с применением рекурсивных функций.\n",
    "#### Добавить возможность задания глубины фрактала. \n",
    "#### Оценить глубину рекурсии. \n",
    "#### Построить таблицу зависимости времени построения от глубины фрактала.\n",
    "### Кривая Гильберта\n"
   ]
  },
  {
   "cell_type": "code",
   "execution_count": null,
   "id": "c59c77f6",
   "metadata": {},
   "outputs": [
    {
     "name": "stdout",
     "output_type": "stream",
     "text": [
      "4\n",
      "Глубина рекурсии: 256\n",
      "Время выполнения: 70.06681609153748\n"
     ]
    }
   ],
   "source": [
    "import time\n",
    "from turtle import * \n",
    "cnt = 0\n",
    "def hilbert(level, angle, step):\n",
    "    global cnt\n",
    "\n",
    "\n",
    "    if level == 0:\n",
    "        cnt+=1\n",
    "        return\n",
    "    \n",
    "    right(angle)\n",
    "\n",
    "    hilbert(level-1, -angle, step)\n",
    "    \n",
    "    forward(step)\n",
    "    left(angle)\n",
    "\n",
    "    hilbert(level-1, angle, step)\n",
    "    \n",
    "\n",
    "    forward(step)\n",
    "\n",
    "    hilbert(level-1, angle, step)\n",
    "  \n",
    "\n",
    "    left(angle)\n",
    "    forward(step)\n",
    "\n",
    "    hilbert(level-1, -angle, step)\n",
    "    right(angle)\n",
    "\n",
    "\n",
    "  \n",
    "def main():\n",
    "    level = int(input())\n",
    "    size = 100\n",
    "    penup()\n",
    "    goto(-size / 2.0, size / 2.0)\n",
    "    pendown()\n",
    "     \n",
    "    # For positioning turtle\n",
    "    prev_t = time.time()\n",
    "    hilbert(level, 90, size/(2**level-1))\n",
    "    cur_t = time.time() - prev_t\n",
    "    print(f\"Глубина рекурсии: {cnt}\\nВремя выполнения: {cur_t}\")\n",
    "    done()\n",
    "\n",
    "  \n",
    "if __name__=='__main__':\n",
    "    main()"
   ]
  },
  {
   "cell_type": "code",
   "execution_count": null,
   "id": "204d40fd",
   "metadata": {},
   "outputs": [],
   "source": []
  }
 ],
 "metadata": {
  "kernelspec": {
   "display_name": "Python 3 (ipykernel)",
   "language": "python",
   "name": "python3"
  },
  "language_info": {
   "codemirror_mode": {
    "name": "ipython",
    "version": 3
   },
   "file_extension": ".py",
   "mimetype": "text/x-python",
   "name": "python",
   "nbconvert_exporter": "python",
   "pygments_lexer": "ipython3",
   "version": "3.10.2"
  }
 },
 "nbformat": 4,
 "nbformat_minor": 5
}
